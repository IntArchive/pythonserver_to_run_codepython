{
 "cells": [
  {
   "cell_type": "code",
   "execution_count": null,
   "metadata": {},
   "outputs": [],
   "source": [
    "from reques import run_python\n",
    "import polars as pl\n",
    "import requests"
   ]
  },
  {
   "cell_type": "code",
   "execution_count": 2,
   "metadata": {},
   "outputs": [
    {
     "data": {
      "text/html": [
       "<div><style>\n",
       ".dataframe > thead > tr,\n",
       ".dataframe > tbody > tr {\n",
       "  text-align: right;\n",
       "  white-space: pre-wrap;\n",
       "}\n",
       "</style>\n",
       "<small>shape: (27, 28)</small><table border=\"1\" class=\"dataframe\"><thead><tr><th>STT</th><th>Original problem</th><th>Logic</th><th>Redundant_assumption_Problem</th><th>Redundant_assumption</th><th></th><th>_duplicated_0</th><th>Answer</th><th>Answer_duplicated_0</th><th>Answer_duplicated_1</th><th>ChatGPT Answer</th><th>Answer_duplicated_2</th><th>Answer_duplicated_3</th><th>QA_Answer</th><th>_duplicated_1</th><th>ChatGPT Answer_duplicated_0</th><th>python_program</th><th>python_result</th><th>Answer_duplicated_4</th><th>Answer_duplicated_5</th><th>Answer_duplicated_6</th><th>Answer_duplicated_7</th><th>Answer_duplicated_8</th><th>Answer_duplicated_9</th><th>_duplicated_2</th><th>_duplicated_3</th><th>_duplicated_4</th><th>_duplicated_5</th></tr><tr><td>i64</td><td>str</td><td>str</td><td>str</td><td>str</td><td>str</td><td>str</td><td>i64</td><td>i64</td><td>str</td><td>str</td><td>i64</td><td>i64</td><td>i64</td><td>str</td><td>str</td><td>str</td><td>null</td><td>i64</td><td>i64</td><td>i64</td><td>str</td><td>str</td><td>str</td><td>str</td><td>str</td><td>str</td><td>str</td></tr></thead><tbody><tr><td>1</td><td>&quot;assumption: Let $n$ be a posit…</td><td>null</td><td>&quot;assumption: \n",
       "$n$ is an integer…</td><td>&quot;$n$ is divisible by 2&quot;</td><td>&quot;assumption: \n",
       "$n$ is an integer…</td><td>&quot;###BEGIN_OF_FORMAT###\n",
       "Answer: …</td><td>1</td><td>1</td><td>null</td><td>&quot;###BEGIN_OF_FORMAT###\n",
       "Answer: …</td><td>1</td><td>0</td><td>0</td><td>&quot;assumption: \n",
       "$n$ is an integer…</td><td>&quot;###BEGIN_OF_FORMAT###\n",
       "Answer: …</td><td>&quot;def check_divisibility(n):\n",
       "&nbsp;&nbsp;&nbsp;…</td><td>null</td><td>1</td><td>0</td><td>0</td><td>null</td><td>null</td><td>null</td><td>null</td><td>null</td><td>null</td><td>null</td></tr><tr><td>2</td><td>&quot;Chứng minh rằng $5^{2n} + 7$ c…</td><td>null</td><td>&quot;assumption: \n",
       "$n$ is an integer…</td><td>&quot;$n$ is divisible by $4$&quot;</td><td>&quot;assumption: \n",
       "$n$ is an integer…</td><td>&quot;###BEGIN_OF_FORMAT###\n",
       "Answer: …</td><td>1</td><td>1</td><td>null</td><td>&quot;###BEGIN_OF_FORMAT###\n",
       "Answer: …</td><td>1</td><td>1</td><td>1</td><td>&quot;assumption: \n",
       "$n$ is an integer…</td><td>&quot;###BEGIN_OF_FORMAT###\n",
       "Answer: …</td><td>&quot;def is_divisible_by_8(n):\n",
       "&nbsp;&nbsp;&nbsp;&nbsp;…</td><td>null</td><td>1</td><td>0</td><td>0</td><td>null</td><td>null</td><td>null</td><td>null</td><td>null</td><td>null</td><td>null</td></tr><tr><td>3</td><td>&quot;Cho $n$ là một số nguyên dương…</td><td>null</td><td>&quot;assumption: \n",
       "$n$ is an integer…</td><td>&quot;2n - 2 is divisible by $3$&quot;</td><td>&quot;assumption: \n",
       "$n$ is an integer…</td><td>&quot;###BEGIN_OF_FORMAT###\n",
       "Answer: …</td><td>1</td><td>null</td><td>null</td><td>&quot;###BEGIN_OF_FORMAT###\n",
       "Answer: …</td><td>1</td><td>0</td><td>0</td><td>&quot;assumption: \n",
       "$n$ is an integer…</td><td>&quot;###BEGIN_OF_FORMAT###\n",
       "Answer: …</td><td>&quot;def is_divisible_by_5(n):\n",
       "&nbsp;&nbsp;&nbsp;&nbsp;…</td><td>null</td><td>1</td><td>0</td><td>null</td><td>null</td><td>null</td><td>null</td><td>null</td><td>null</td><td>null</td><td>&quot;Answer&quot;</td></tr><tr><td>4</td><td>&quot;Chứng minh rằng $3^{2^{4n+1}} …</td><td>null</td><td>&quot;assumption: \n",
       "$n$ is an integer…</td><td>&quot;4n+1 is divisible by $11$&quot;</td><td>&quot;assumption: \n",
       "$n$ is an integer…</td><td>&quot;###BEGIN_OF_FORMAT###\n",
       "Answer: …</td><td>1</td><td>null</td><td>null</td><td>&quot;###BEGIN_OF_FORMAT###\n",
       "Answer: …</td><td>1</td><td>0</td><td>0</td><td>&quot;assumption: \n",
       "$n$ is an integer…</td><td>&quot;###BEGIN_OF_FORMAT###\n",
       "Answer: …</td><td>&quot;def is_divisible_by_11(n):\n",
       "&nbsp;&nbsp;&nbsp;…</td><td>null</td><td>1</td><td>0</td><td>null</td><td>null</td><td>null</td><td>null</td><td>null</td><td>null</td><td>null</td><td>null</td></tr><tr><td>5</td><td>&quot;Cho $a \\in \\mathbb{Z}; m, n \\i…</td><td>null</td><td>&quot;assumption: \n",
       "$a \\in \\mathbb{Z}…</td><td>&quot;$m+n$ is divisible by $2$&quot;</td><td>&quot;assumption: \n",
       "$a \\in \\mathbb{Z}…</td><td>&quot;###BEGIN_OF_FORMAT###\n",
       "Answer: …</td><td>1</td><td>null</td><td>null</td><td>&quot;###BEGIN_OF_FORMAT###\n",
       "Answer: …</td><td>1</td><td>1</td><td>1</td><td>&quot;assumption: \n",
       "$a \\in \\mathbb{Z}…</td><td>&quot;###BEGIN_OF_FORMAT###\n",
       "Answer: …</td><td>&quot;def is_divisible_by_7(a, m, n)…</td><td>null</td><td>1</td><td>1</td><td>null</td><td>null</td><td>null</td><td>null</td><td>null</td><td>null</td><td>null</td><td>null</td></tr><tr><td>&hellip;</td><td>&hellip;</td><td>&hellip;</td><td>&hellip;</td><td>&hellip;</td><td>&hellip;</td><td>&hellip;</td><td>&hellip;</td><td>&hellip;</td><td>&hellip;</td><td>&hellip;</td><td>&hellip;</td><td>&hellip;</td><td>&hellip;</td><td>&hellip;</td><td>&hellip;</td><td>&hellip;</td><td>&hellip;</td><td>&hellip;</td><td>&hellip;</td><td>&hellip;</td><td>&hellip;</td><td>&hellip;</td><td>&hellip;</td><td>&hellip;</td><td>&hellip;</td><td>&hellip;</td><td>&hellip;</td></tr><tr><td>null</td><td>null</td><td>null</td><td>null</td><td>null</td><td>null</td><td>null</td><td>null</td><td>null</td><td>null</td><td>null</td><td>null</td><td>null</td><td>null</td><td>null</td><td>null</td><td>null</td><td>null</td><td>null</td><td>null</td><td>null</td><td>null</td><td>null</td><td>null</td><td>null</td><td>null</td><td>null</td><td>null</td></tr><tr><td>null</td><td>null</td><td>null</td><td>null</td><td>null</td><td>null</td><td>null</td><td>null</td><td>null</td><td>null</td><td>null</td><td>null</td><td>null</td><td>null</td><td>null</td><td>null</td><td>null</td><td>null</td><td>null</td><td>null</td><td>null</td><td>null</td><td>null</td><td>null</td><td>null</td><td>null</td><td>null</td><td>null</td></tr><tr><td>null</td><td>null</td><td>null</td><td>null</td><td>null</td><td>null</td><td>null</td><td>null</td><td>null</td><td>null</td><td>null</td><td>null</td><td>null</td><td>null</td><td>null</td><td>null</td><td>null</td><td>null</td><td>null</td><td>null</td><td>null</td><td>null</td><td>null</td><td>null</td><td>null</td><td>null</td><td>null</td><td>null</td></tr><tr><td>null</td><td>null</td><td>null</td><td>null</td><td>null</td><td>null</td><td>null</td><td>null</td><td>null</td><td>null</td><td>null</td><td>null</td><td>null</td><td>null</td><td>null</td><td>null</td><td>null</td><td>null</td><td>null</td><td>null</td><td>null</td><td>null</td><td>null</td><td>null</td><td>null</td><td>null</td><td>null</td><td>null</td></tr><tr><td>null</td><td>null</td><td>null</td><td>null</td><td>null</td><td>null</td><td>null</td><td>null</td><td>null</td><td>null</td><td>null</td><td>null</td><td>null</td><td>null</td><td>null</td><td>null</td><td>null</td><td>null</td><td>null</td><td>null</td><td>null</td><td>null</td><td>null</td><td>null</td><td>null</td><td>null</td><td>null</td><td>null</td></tr></tbody></table></div>"
      ],
      "text/plain": [
       "shape: (27, 28)\n",
       "┌──────┬─────────────┬───────┬─────────────┬───┬────────────┬────────────┬────────────┬────────────┐\n",
       "│ STT  ┆ Original    ┆ Logic ┆ Redundant_a ┆ … ┆ _duplicate ┆ _duplicate ┆ _duplicate ┆ _duplicate │\n",
       "│ ---  ┆ problem     ┆ ---   ┆ ssumption_P ┆   ┆ d_2        ┆ d_3        ┆ d_4        ┆ d_5        │\n",
       "│ i64  ┆ ---         ┆ str   ┆ roblem      ┆   ┆ ---        ┆ ---        ┆ ---        ┆ ---        │\n",
       "│      ┆ str         ┆       ┆ ---         ┆   ┆ str        ┆ str        ┆ str        ┆ str        │\n",
       "│      ┆             ┆       ┆ str         ┆   ┆            ┆            ┆            ┆            │\n",
       "╞══════╪═════════════╪═══════╪═════════════╪═══╪════════════╪════════════╪════════════╪════════════╡\n",
       "│ 1    ┆ assumption: ┆ null  ┆ assumption: ┆ … ┆ null       ┆ null       ┆ null       ┆ null       │\n",
       "│      ┆ Let $n$ be  ┆       ┆ $n$ is an   ┆   ┆            ┆            ┆            ┆            │\n",
       "│      ┆ a posit…    ┆       ┆ integer…    ┆   ┆            ┆            ┆            ┆            │\n",
       "│ 2    ┆ Chứng minh  ┆ null  ┆ assumption: ┆ … ┆ null       ┆ null       ┆ null       ┆ null       │\n",
       "│      ┆ rằng        ┆       ┆ $n$ is an   ┆   ┆            ┆            ┆            ┆            │\n",
       "│      ┆ $5^{2n} +   ┆       ┆ integer…    ┆   ┆            ┆            ┆            ┆            │\n",
       "│      ┆ 7$ c…       ┆       ┆             ┆   ┆            ┆            ┆            ┆            │\n",
       "│ 3    ┆ Cho $n$ là  ┆ null  ┆ assumption: ┆ … ┆ null       ┆ null       ┆ null       ┆ Answer     │\n",
       "│      ┆ một số      ┆       ┆ $n$ is an   ┆   ┆            ┆            ┆            ┆            │\n",
       "│      ┆ nguyên      ┆       ┆ integer…    ┆   ┆            ┆            ┆            ┆            │\n",
       "│      ┆ dương…      ┆       ┆             ┆   ┆            ┆            ┆            ┆            │\n",
       "│ 4    ┆ Chứng minh  ┆ null  ┆ assumption: ┆ … ┆ null       ┆ null       ┆ null       ┆ null       │\n",
       "│      ┆ rằng $3^{2^ ┆       ┆ $n$ is an   ┆   ┆            ┆            ┆            ┆            │\n",
       "│      ┆ {4n+1}} …   ┆       ┆ integer…    ┆   ┆            ┆            ┆            ┆            │\n",
       "│ 5    ┆ Cho $a \\in  ┆ null  ┆ assumption: ┆ … ┆ null       ┆ null       ┆ null       ┆ null       │\n",
       "│      ┆ \\mathbb{Z}; ┆       ┆ $a \\in      ┆   ┆            ┆            ┆            ┆            │\n",
       "│      ┆ m, n \\i…    ┆       ┆ \\mathbb{Z}… ┆   ┆            ┆            ┆            ┆            │\n",
       "│ …    ┆ …           ┆ …     ┆ …           ┆ … ┆ …          ┆ …          ┆ …          ┆ …          │\n",
       "│ null ┆ null        ┆ null  ┆ null        ┆ … ┆ null       ┆ null       ┆ null       ┆ null       │\n",
       "│ null ┆ null        ┆ null  ┆ null        ┆ … ┆ null       ┆ null       ┆ null       ┆ null       │\n",
       "│ null ┆ null        ┆ null  ┆ null        ┆ … ┆ null       ┆ null       ┆ null       ┆ null       │\n",
       "│ null ┆ null        ┆ null  ┆ null        ┆ … ┆ null       ┆ null       ┆ null       ┆ null       │\n",
       "│ null ┆ null        ┆ null  ┆ null        ┆ … ┆ null       ┆ null       ┆ null       ┆ null       │\n",
       "└──────┴─────────────┴───────┴─────────────┴───┴────────────┴────────────┴────────────┴────────────┘"
      ]
     },
     "execution_count": 2,
     "metadata": {},
     "output_type": "execute_result"
    }
   ],
   "source": [
    "data = pl.read_csv(r'/Users/macos/Documents/pythonserver/Analysis_prompt_redundant_ver2.csv')\n",
    "data = data.with_columns(pl.lit(None).alias(\"python_result\"))\n",
    "data"
   ]
  },
  {
   "cell_type": "code",
   "execution_count": 3,
   "metadata": {},
   "outputs": [],
   "source": [
    "def results_of_python_program(code):\n",
    "    # Giả sử run_python là hàm đã được định nghĩa trước\n",
    "    result = run_python(code)\n",
    "    return result\n",
    "\n",
    "data = data.with_columns(\n",
    "    pl.col(\"python_program\")\n",
    "      .map_elements(lambda x: results_of_python_program(x), str)\n",
    "      .alias(\"python_result\")\n",
    ")\n"
   ]
  },
  {
   "cell_type": "code",
   "execution_count": 3,
   "metadata": {},
   "outputs": [
    {
     "data": {
      "text/plain": [
       "'0\\n1\\n2\\n3\\n4'"
      ]
     },
     "execution_count": 3,
     "metadata": {},
     "output_type": "execute_result"
    }
   ],
   "source": [
    "code = \"\"\"\n",
    "for i in range(5):\n",
    "    print(i)\n",
    "result = 7\n",
    "\"\"\"\n",
    "run_python(code)"
   ]
  },
  {
   "cell_type": "code",
   "execution_count": 4,
   "metadata": {},
   "outputs": [],
   "source": [
    "data.write_csv(\"output.csv\")"
   ]
  }
 ],
 "metadata": {
  "kernelspec": {
   "display_name": "pythonserver",
   "language": "python",
   "name": "python3"
  },
  "language_info": {
   "codemirror_mode": {
    "name": "ipython",
    "version": 3
   },
   "file_extension": ".py",
   "mimetype": "text/x-python",
   "name": "python",
   "nbconvert_exporter": "python",
   "pygments_lexer": "ipython3",
   "version": "3.11.11"
  }
 },
 "nbformat": 4,
 "nbformat_minor": 2
}
